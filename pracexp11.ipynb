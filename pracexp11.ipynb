{
 "cells": [
  {
   "cell_type": "code",
   "execution_count": 1,
   "id": "41d4f348-0ec7-4421-ac8c-c6fcafee438d",
   "metadata": {},
   "outputs": [],
   "source": [
    "import numpy as np\n",
    "import tensorflow as tf"
   ]
  },
  {
   "cell_type": "code",
   "execution_count": 2,
   "id": "c68e588f-b93b-41b9-9f7a-596f0519d72b",
   "metadata": {},
   "outputs": [],
   "source": [
    "source_texts = ['hello', 'how are you', 'goodbye']\n",
    "target_texts = ['bonjour', 'comment ça va', 'au revoir']"
   ]
  },
  {
   "cell_type": "code",
   "execution_count": 7,
   "id": "a04e8271-5943-4a12-b04e-025afa891dd7",
   "metadata": {},
   "outputs": [
    {
     "name": "stdout",
     "output_type": "stream",
     "text": [
      "{'d', 'g', 'w', 'b', 'l', 'r', ' ', 'u', 'a', 'e', 'y', 'h', 'o'}\n"
     ]
    }
   ],
   "source": [
    "source_vocab=set(''.join(source_texts))\n",
    "print(source_vocab)\n",
    "target_vocab=set(''.join(target_texts))\n",
    "source_vocab_size=len(source_vocab)\n",
    "target_vocab_size=len(target_vocab)"
   ]
  },
  {
   "cell_type": "code",
   "execution_count": 12,
   "id": "73b8e0db-ba1b-47c8-a11a-5fa5b456cb8f",
   "metadata": {},
   "outputs": [
    {
     "name": "stdout",
     "output_type": "stream",
     "text": [
      "{'d': 0, 'g': 1, 'w': 2, 'b': 3, 'l': 4, 'r': 5, ' ': 6, 'u': 7, 'a': 8, 'e': 9, 'y': 10, 'h': 11, 'o': 12}\n",
      "{0: 'd', 1: 'g', 2: 'w', 3: 'b', 4: 'l', 5: 'r', 6: ' ', 7: 'u', 8: 'a', 9: 'e', 10: 'y', 11: 'h', 12: 'o'}\n"
     ]
    }
   ],
   "source": [
    "source_char_to_int={char:i for i,char in enumerate(source_vocab)}\n",
    "print(source_char_to_int)\n",
    "target_char_to_int={char:i for i,char in enumerate(target_vocab)}\n",
    "source_int_to_char={i:char for i,char in enumerate(source_vocab)}\n",
    "print(source_int_to_char)\n",
    "target_int_to_char={i:char for i,char in enumerate(target_vocab)}"
   ]
  },
  {
   "cell_type": "code",
   "execution_count": 15,
   "id": "744db477-e4fe-4108-8203-2298bae67c0e",
   "metadata": {},
   "outputs": [
    {
     "name": "stdout",
     "output_type": "stream",
     "text": [
      "[[11, 9, 4, 4, 12], [11, 12, 2, 6, 8, 5, 9, 6, 10, 12, 7], [1, 12, 12, 0, 3, 10, 9]]\n",
      "[[3, 7, 1, 14, 7, 9, 4], [2, 7, 11, 11, 12, 1, 13, 8, 0, 10, 8, 5, 10], [10, 9, 8, 4, 12, 5, 7, 6, 4]]\n"
     ]
    }
   ],
   "source": [
    "source_sequence=[[source_char_to_int[char]for char in text]for text in source_texts]\n",
    "print(source_sequence)\n",
    "target_sequence=[[target_char_to_int[char]for char in text]for text in target_texts]\n",
    "print(target_sequence)"
   ]
  },
  {
   "cell_type": "code",
   "execution_count": 20,
   "id": "0f2cb288-21fb-4937-818b-83d0f527767a",
   "metadata": {},
   "outputs": [
    {
     "name": "stdout",
     "output_type": "stream",
     "text": [
      "11\n",
      "[[11  9  4  4 12  0  0  0  0  0  0]\n",
      " [11 12  2  6  8  5  9  6 10 12  7]\n",
      " [ 1 12 12  0  3 10  9  0  0  0  0]]\n",
      "[[ 3  7  1 14  7  9  4  0  0  0  0]\n",
      " [11 11 12  1 13  8  0 10  8  5 10]\n",
      " [10  9  8  4 12  5  7  6  4  0  0]]\n"
     ]
    }
   ],
   "source": [
    "max_length=max(len(sen) for sen in source_texts)\n",
    "print(max_length)\n",
    "source_sequence=tf.keras.preprocessing.sequence.pad_sequences(source_sequence,maxlen=max_length,padding='post')\n",
    "print(source_sequence)\n",
    "target_sequence=tf.keras.preprocessing.sequence.pad_sequences(target_sequence,maxlen=max_length,padding='post')\n",
    "print(target_sequence)"
   ]
  },
  {
   "cell_type": "code",
   "execution_count": 46,
   "id": "67b85cb4-f55f-4cca-baa2-f11f78a616b6",
   "metadata": {},
   "outputs": [],
   "source": [
    "input_shape=(max_length,source_vocab_size)\n",
    "output_shape=(max_length,target_vocab_size)\n",
    "model=tf.keras.models.Sequential([tf.keras.layers.Embedding(source_vocab_size,64,input_length=max_length),\n",
    "                      tf.keras.layers.SimpleRNN(128,return_sequences=True),\n",
    "                      tf.keras.layers.Dense(64,activation='softmax')\n",
    "                      ])\n",
    "model.compile(loss='categorical_crossentropy',optimizer='adam')"
   ]
  },
  {
   "cell_type": "code",
   "execution_count": 50,
   "id": "30d75c08-6441-4842-ac1c-c865fd9ad0f0",
   "metadata": {},
   "outputs": [
    {
     "name": "stdout",
     "output_type": "stream",
     "text": [
      "[[[0. 0. 0. 1. 0. 0. 0. 0. 0. 0. 0. 0. 0. 0. 0.]\n",
      "  [0. 0. 0. 0. 0. 0. 0. 1. 0. 0. 0. 0. 0. 0. 0.]\n",
      "  [0. 1. 0. 0. 0. 0. 0. 0. 0. 0. 0. 0. 0. 0. 0.]\n",
      "  [0. 0. 0. 0. 0. 0. 0. 0. 0. 0. 0. 0. 0. 0. 1.]\n",
      "  [0. 0. 0. 0. 0. 0. 0. 1. 0. 0. 0. 0. 0. 0. 0.]\n",
      "  [0. 0. 0. 0. 0. 0. 0. 0. 0. 1. 0. 0. 0. 0. 0.]\n",
      "  [0. 0. 0. 0. 1. 0. 0. 0. 0. 0. 0. 0. 0. 0. 0.]\n",
      "  [1. 0. 0. 0. 0. 0. 0. 0. 0. 0. 0. 0. 0. 0. 0.]\n",
      "  [1. 0. 0. 0. 0. 0. 0. 0. 0. 0. 0. 0. 0. 0. 0.]\n",
      "  [1. 0. 0. 0. 0. 0. 0. 0. 0. 0. 0. 0. 0. 0. 0.]\n",
      "  [1. 0. 0. 0. 0. 0. 0. 0. 0. 0. 0. 0. 0. 0. 0.]]\n",
      "\n",
      " [[0. 0. 0. 0. 0. 0. 0. 0. 0. 0. 0. 1. 0. 0. 0.]\n",
      "  [0. 0. 0. 0. 0. 0. 0. 0. 0. 0. 0. 1. 0. 0. 0.]\n",
      "  [0. 0. 0. 0. 0. 0. 0. 0. 0. 0. 0. 0. 1. 0. 0.]\n",
      "  [0. 1. 0. 0. 0. 0. 0. 0. 0. 0. 0. 0. 0. 0. 0.]\n",
      "  [0. 0. 0. 0. 0. 0. 0. 0. 0. 0. 0. 0. 0. 1. 0.]\n",
      "  [0. 0. 0. 0. 0. 0. 0. 0. 1. 0. 0. 0. 0. 0. 0.]\n",
      "  [1. 0. 0. 0. 0. 0. 0. 0. 0. 0. 0. 0. 0. 0. 0.]\n",
      "  [0. 0. 0. 0. 0. 0. 0. 0. 0. 0. 1. 0. 0. 0. 0.]\n",
      "  [0. 0. 0. 0. 0. 0. 0. 0. 1. 0. 0. 0. 0. 0. 0.]\n",
      "  [0. 0. 0. 0. 0. 1. 0. 0. 0. 0. 0. 0. 0. 0. 0.]\n",
      "  [0. 0. 0. 0. 0. 0. 0. 0. 0. 0. 1. 0. 0. 0. 0.]]\n",
      "\n",
      " [[0. 0. 0. 0. 0. 0. 0. 0. 0. 0. 1. 0. 0. 0. 0.]\n",
      "  [0. 0. 0. 0. 0. 0. 0. 0. 0. 1. 0. 0. 0. 0. 0.]\n",
      "  [0. 0. 0. 0. 0. 0. 0. 0. 1. 0. 0. 0. 0. 0. 0.]\n",
      "  [0. 0. 0. 0. 1. 0. 0. 0. 0. 0. 0. 0. 0. 0. 0.]\n",
      "  [0. 0. 0. 0. 0. 0. 0. 0. 0. 0. 0. 0. 1. 0. 0.]\n",
      "  [0. 0. 0. 0. 0. 1. 0. 0. 0. 0. 0. 0. 0. 0. 0.]\n",
      "  [0. 0. 0. 0. 0. 0. 0. 1. 0. 0. 0. 0. 0. 0. 0.]\n",
      "  [0. 0. 0. 0. 0. 0. 1. 0. 0. 0. 0. 0. 0. 0. 0.]\n",
      "  [0. 0. 0. 0. 1. 0. 0. 0. 0. 0. 0. 0. 0. 0. 0.]\n",
      "  [1. 0. 0. 0. 0. 0. 0. 0. 0. 0. 0. 0. 0. 0. 0.]\n",
      "  [1. 0. 0. 0. 0. 0. 0. 0. 0. 0. 0. 0. 0. 0. 0.]]]\n"
     ]
    }
   ],
   "source": [
    "target_sequence_one_hot = np.array([tf.keras.utils.to_categorical(seq, num_classes=target_vocab_size) for seq in target_sequence])\n",
    "print(target_sequence_one_hot)"
   ]
  },
  {
   "cell_type": "code",
   "execution_count": 51,
   "id": "cabde53f-4738-4356-988e-5c31f2136e60",
   "metadata": {},
   "outputs": [
    {
     "name": "stdout",
     "output_type": "stream",
     "text": [
      "Epoch 1/10\n"
     ]
    },
    {
     "ename": "AttributeError",
     "evalue": "'NoneType' object has no attribute 'items'",
     "output_type": "error",
     "traceback": [
      "\u001b[1;31m---------------------------------------------------------------------------\u001b[0m",
      "\u001b[1;31mAttributeError\u001b[0m                            Traceback (most recent call last)",
      "Cell \u001b[1;32mIn[51], line 1\u001b[0m\n\u001b[1;32m----> 1\u001b[0m \u001b[43mmodel\u001b[49m\u001b[38;5;241;43m.\u001b[39;49m\u001b[43mfit\u001b[49m\u001b[43m(\u001b[49m\u001b[43msource_sequence\u001b[49m\u001b[43m,\u001b[49m\u001b[43m \u001b[49m\u001b[43mtarget_sequence_one_hot\u001b[49m\u001b[43m,\u001b[49m\u001b[43m \u001b[49m\u001b[43mepochs\u001b[49m\u001b[38;5;241;43m=\u001b[39;49m\u001b[38;5;241;43m10\u001b[39;49m\u001b[43m)\u001b[49m\n",
      "File \u001b[1;32m~\\AppData\\Local\\Programs\\Python\\Python311\\Lib\\site-packages\\keras\\src\\utils\\traceback_utils.py:122\u001b[0m, in \u001b[0;36mfilter_traceback.<locals>.error_handler\u001b[1;34m(*args, **kwargs)\u001b[0m\n\u001b[0;32m    119\u001b[0m     filtered_tb \u001b[38;5;241m=\u001b[39m _process_traceback_frames(e\u001b[38;5;241m.\u001b[39m__traceback__)\n\u001b[0;32m    120\u001b[0m     \u001b[38;5;66;03m# To get the full stack trace, call:\u001b[39;00m\n\u001b[0;32m    121\u001b[0m     \u001b[38;5;66;03m# `keras.config.disable_traceback_filtering()`\u001b[39;00m\n\u001b[1;32m--> 122\u001b[0m     \u001b[38;5;28;01mraise\u001b[39;00m e\u001b[38;5;241m.\u001b[39mwith_traceback(filtered_tb) \u001b[38;5;28;01mfrom\u001b[39;00m \u001b[38;5;28;01mNone\u001b[39;00m\n\u001b[0;32m    123\u001b[0m \u001b[38;5;28;01mfinally\u001b[39;00m:\n\u001b[0;32m    124\u001b[0m     \u001b[38;5;28;01mdel\u001b[39;00m filtered_tb\n",
      "File \u001b[1;32m~\\AppData\\Local\\Programs\\Python\\Python311\\Lib\\site-packages\\keras\\src\\trainers\\trainer.py:891\u001b[0m, in \u001b[0;36mTrainer._pythonify_logs\u001b[1;34m(self, logs)\u001b[0m\n\u001b[0;32m    889\u001b[0m \u001b[38;5;28;01mdef\u001b[39;00m \u001b[38;5;21m_pythonify_logs\u001b[39m(\u001b[38;5;28mself\u001b[39m, logs):\n\u001b[0;32m    890\u001b[0m     result \u001b[38;5;241m=\u001b[39m {}\n\u001b[1;32m--> 891\u001b[0m     \u001b[38;5;28;01mfor\u001b[39;00m key, value \u001b[38;5;129;01min\u001b[39;00m \u001b[38;5;28msorted\u001b[39m(\u001b[43mlogs\u001b[49m\u001b[38;5;241;43m.\u001b[39;49m\u001b[43mitems\u001b[49m()):\n\u001b[0;32m    892\u001b[0m         \u001b[38;5;28;01mif\u001b[39;00m \u001b[38;5;28misinstance\u001b[39m(value, \u001b[38;5;28mdict\u001b[39m):\n\u001b[0;32m    893\u001b[0m             result\u001b[38;5;241m.\u001b[39mupdate(\u001b[38;5;28mself\u001b[39m\u001b[38;5;241m.\u001b[39m_pythonify_logs(value))\n",
      "\u001b[1;31mAttributeError\u001b[0m: 'NoneType' object has no attribute 'items'"
     ]
    }
   ],
   "source": [
    "model.fit(source_sequence, target_sequence_one_hot, epochs=10)"
   ]
  },
  {
   "cell_type": "code",
   "execution_count": null,
   "id": "1486ddc3-5b12-4480-8ed5-f1b7d0d823f6",
   "metadata": {},
   "outputs": [],
   "source": []
  }
 ],
 "metadata": {
  "kernelspec": {
   "display_name": "Python 3 (ipykernel)",
   "language": "python",
   "name": "python3"
  },
  "language_info": {
   "codemirror_mode": {
    "name": "ipython",
    "version": 3
   },
   "file_extension": ".py",
   "mimetype": "text/x-python",
   "name": "python",
   "nbconvert_exporter": "python",
   "pygments_lexer": "ipython3",
   "version": "3.11.4"
  }
 },
 "nbformat": 4,
 "nbformat_minor": 5
}
