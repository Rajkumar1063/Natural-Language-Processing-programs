{
 "cells": [
  {
   "cell_type": "code",
   "execution_count": null,
   "id": "d0523d24-9a3d-4d86-913b-6d14ba71f619",
   "metadata": {},
   "outputs": [],
   "source": [
    "from keras.models import Sequential\n",
    "from keras.layers import LSTM,Dense\n",
    "import numpy as np"
   ]
  },
  {
   "cell_type": "code",
   "execution_count": null,
   "id": "4e0ab404-cba3-4405-8eb0-9bf8990f66d1",
   "metadata": {},
   "outputs": [],
   "source": [
    "text=\"This is a testing corpus for text generation using lstm\"\n",
    "chars=sorted(list(set(text)))\n",
    "print(chars)"
   ]
  },
  {
   "cell_type": "code",
   "execution_count": null,
   "id": "47d4c90b-dab5-4f21-b7e5-3b7dec31e425",
   "metadata": {},
   "outputs": [],
   "source": [
    "char_to_int={char:i for i,char in enumerate(chars)}\n",
    "print(char_to_int)\n",
    "int_to_char={i:char for i,char in enumerate(chars)}\n",
    "print(int_to_char)"
   ]
  },
  {
   "cell_type": "code",
   "execution_count": null,
   "id": "35ac607c-b9c9-4db5-ace0-0a98a062432e",
   "metadata": {},
   "outputs": [],
   "source": [
    "numchars=len(chars)\n",
    "sequence_length=10\n",
    "data_X=[]\n",
    "data_y=[]\n",
    "for i in range(0,len(text)-sequence_length):\n",
    "    seq_in=text[i:i+sequence_length]\n",
    "    seq_out=text[i+sequence_length]\n",
    "    data_X.append([char_to_int[char] for char in seq_in])\n",
    "    data_y.append(char_to_int[seq_out])\n",
    "print(data_X)\n",
    "print(data_y)"
   ]
  },
  {
   "cell_type": "code",
   "execution_count": null,
   "id": "e879b13b-7d0a-46c5-b170-12997e89cab8",
   "metadata": {},
   "outputs": [],
   "source": [
    "X=np.reshape(data_X,(len(data_X),sequence_length,1))\n",
    "print(X)"
   ]
  },
  {
   "cell_type": "code",
   "execution_count": null,
   "id": "a364adbc-8c11-49eb-b8a4-0c878de5228f",
   "metadata": {},
   "outputs": [],
   "source": [
    "X=X/float(numchars)\n",
    "print(X)"
   ]
  },
  {
   "cell_type": "code",
   "execution_count": null,
   "id": "e3a5dee8-c722-436a-b4c9-7c3c77e89234",
   "metadata": {},
   "outputs": [],
   "source": [
    "y=np.eye(numchars)[data_y]\n",
    "print(y)"
   ]
  },
  {
   "cell_type": "code",
   "execution_count": null,
   "id": "87be687f-5954-4f03-9a86-22c6bf16a8c5",
   "metadata": {},
   "outputs": [],
   "source": [
    "model=Sequential()\n",
    "model.add(LSTM(128,input_shape=(X.shape[1],X.shape[2])))\n",
    "model.add(Dense(numchars,activation='softmax'))\n",
    "model.compile(loss='categorical_crossentropy',optimizer='adam')\n",
    "model.fit(X,y,epochs=10,batch_size=16)\n",
    "start_seq=\"This is a \"\n",
    "generated_text=start_seq\n",
    "for _ in range(50):\n",
    "    x=np.reshape([char_to_int[char] for char in start_seq],(1,len(start_seq),1))\n",
    "    x=x/float(numchars)\n",
    "    index=np.argmax(x)\n",
    "    result=int_to_char[index]\n",
    "    generated_text+=result\n",
    "    start_seq=start_seq[1:]+result\n",
    "print(generated_text)"
   ]
  },
  {
   "cell_type": "code",
   "execution_count": null,
   "id": "a28a3170-64d6-4d0d-80ee-19368e389303",
   "metadata": {},
   "outputs": [],
   "source": []
  }
 ],
 "metadata": {
  "kernelspec": {
   "display_name": "Python 3 (ipykernel)",
   "language": "python",
   "name": "python3"
  },
  "language_info": {
   "codemirror_mode": {
    "name": "ipython",
    "version": 3
   },
   "file_extension": ".py",
   "mimetype": "text/x-python",
   "name": "python",
   "nbconvert_exporter": "python",
   "pygments_lexer": "ipython3",
   "version": "3.11.4"
  }
 },
 "nbformat": 4,
 "nbformat_minor": 5
}
