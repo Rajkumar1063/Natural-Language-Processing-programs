{
 "cells": [
  {
   "cell_type": "code",
   "execution_count": null,
   "id": "244803de-5d56-4420-ab7a-392c5ada0a38",
   "metadata": {},
   "outputs": [],
   "source": [
    "from nltk import PCFG,InsideChartParser,ViterbiParser"
   ]
  },
  {
   "cell_type": "code",
   "execution_count": null,
   "id": "a41ba154-f430-4a5e-83aa-f2ec804f2ac5",
   "metadata": {},
   "outputs": [],
   "source": [
    "grammar =  PCFG.fromstring(\"\"\"\n",
    "S -> NP VP [1.0]\n",
    "VP -> V NP [0.7] | VP PP [0.3]\n",
    "NP -> Det N [0.5] | NP PP [0.2] | 'John' [0.3]\n",
    "PP -> P NP [1.0]\n",
    "V -> 'saw' [0.2] | 'ate' [0.8]\n",
    "Det -> 'the' [0.6] | 'a' [0.4]\n",
    "N -> 'man' [0.5] | 'telescope' [0.5]\n",
    "P -> 'with' [0.4] | 'in' [0.6]\n",
    "\"\"\")\n",
    "parser=InsideChartParser(grammar)\n",
    "sentence = \"John saw a man with a telescope\"\n",
    "tokens=sentence.split()\n",
    "count=1\n",
    "for tree in parser.parse(tokens):\n",
    "    print(\"TREE\",count,end=\"\\n\\n\\n\")\n",
    "    tree.pretty_print()\n",
    "    print(tree,end=\"\\n\\n\\n\")\n",
    "    count+=1\n",
    "    "
   ]
  },
  {
   "cell_type": "code",
   "execution_count": null,
   "id": "15a11710-ef9a-42c6-9932-90bb110434fd",
   "metadata": {},
   "outputs": [],
   "source": [
    "parser=ViterbiParser(grammar)\n",
    "for tree in parser.parse(tokens):\n",
    "    print(tree)\n",
    "    tree.pretty_print()"
   ]
  },
  {
   "cell_type": "code",
   "execution_count": null,
   "id": "2490d1fd-f178-40cd-8e13-9cfe329388c0",
   "metadata": {},
   "outputs": [],
   "source": [
    "from nltk import PCFG\n",
    "from nltk import word_tokenize\n",
    "pcfg=PCFG.fromstring(\"\"\"\n",
    "S -> NP VP [1.0]\n",
    "PP -> P NP [1.0]\n",
    "VP -> V NP [0.7]\n",
    "VP -> VP PP [0.3]\n",
    "P -> 'with' [1.0]\n",
    "V ->'saw' [1.0]\n",
    "NP -> NP PP [0.4]\n",
    "NP -> 'Mani' [0.1]\n",
    "NP -> 'ears' [0.18]\n",
    "NP -> 'saw' [0.04]\n",
    "NP -> 'stars' [0.18]\n",
    "NP -> 'telescope' [0.1]\n",
    "\"\"\"\n",
    ")\n",
    "text=\"Mani saw stars with ears\"\n",
    "tokens=word_tokenize(text)\n",
    "n=len(tokens)\n",
    "print(tokens)\n",
    "table=[[[]for i in range(n)]for i in range(n)]\n",
    "print(table)\n",
    "for i in range(n):\n",
    "    for prod in pcfg.productions(rhs=tokens[i]):\n",
    "        if table[i][i] is None:\n",
    "            table[i][i]=[(prod.lhs(),prod.prob())]\n",
    "        else:\n",
    "            table[i][i].append([prod.lhs(),prod.prob()])\n",
    "print(table)            \n",
    "for length in range(2,n+1):\n",
    "    for i in range(n-length+1):\n",
    "        j=i+length-1\n",
    "        for k in range(i,j):\n",
    "            for prod in pcfg.productions():\n",
    "                for left,leftprob in table[i][k]:\n",
    "                    for right,rightprob in table[k+1][j]:\n",
    "                        if prod.rhs()==(left,right):\n",
    "                            prob=leftprob*rightprob*prod.prob()\n",
    "                            if table[i][j] is None:\n",
    "                                table[i][j]=[(prod.lhs(),prob)]\n",
    "                            else:\n",
    "                                table[i][j].append([prod.lhs(),prob])\n",
    "print(table)                                \n",
    "if table[0][n-1] is not None:\n",
    "    if pcfg.start() in (x for (x,prob) in table[0][n-1]):\n",
    "        print(\"Sentence is valid.\")\n",
    "        for (x,prob) in table[0][n-1]:\n",
    "            print(\"Probability of sentence is \",prob)   "
   ]
  },
  {
   "cell_type": "code",
   "execution_count": null,
   "id": "03c94db6-bc3a-478f-b85c-fa0d73fa1356",
   "metadata": {},
   "outputs": [],
   "source": []
  }
 ],
 "metadata": {
  "kernelspec": {
   "display_name": "Python 3 (ipykernel)",
   "language": "python",
   "name": "python3"
  },
  "language_info": {
   "codemirror_mode": {
    "name": "ipython",
    "version": 3
   },
   "file_extension": ".py",
   "mimetype": "text/x-python",
   "name": "python",
   "nbconvert_exporter": "python",
   "pygments_lexer": "ipython3",
   "version": "3.11.4"
  }
 },
 "nbformat": 4,
 "nbformat_minor": 5
}
