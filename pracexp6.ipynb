{
 "cells": [
  {
   "cell_type": "code",
   "execution_count": 16,
   "id": "caa085a9-b39f-4e22-9091-d33890f35b52",
   "metadata": {},
   "outputs": [
    {
     "name": "stdout",
     "output_type": "stream",
     "text": [
      "[0.294]\n",
      "[0.294, 0.166]\n",
      "[[0.6, 0], [0.294, 1]]\n",
      "[0.13343999999999998]\n",
      "[0.13343999999999998, 0.05955999999999999]\n",
      "[[0.6, 0], [0.294, 1], [0.13343999999999998, 1]]\n",
      "[0.016487999999999996]\n",
      "[0.016487999999999996, 0.008767999999999998]\n",
      "[[0.6, 0], [0.294, 1], [0.13343999999999998, 1], [0.016487999999999996, 1]]\n",
      "[[0.6, 0], [0.294, 1], [0.13343999999999998, 1], [0.016487999999999996, 1], [0.016487999999999996, 0]]\n",
      "<start state1 state1 state1 end>\n"
     ]
    }
   ],
   "source": [
    "def fpa(pi,state,transition,words):\n",
    "    alpha=[pi]\n",
    "    viterbi_prob=[]\n",
    "    viterbi_prob.append([max(pi),pi.index(max(pi))])\n",
    "    for t in range(1,len(words)+1):\n",
    "        val=0\n",
    "        temp=[]\n",
    "        for j in range(0,len(state)):\n",
    "            for i in range(0,len(state)):\n",
    "                ok=words[t-1]\n",
    "                val=val+(alpha[t-1][i]*state[i][j]*transition[i][ok-1])\n",
    "            temp.append(val)\n",
    "            val=0\n",
    "            print(temp)\n",
    "            if len(temp)==len(state):\n",
    "                viterbi_prob.append([max(temp),temp.index(max(temp))+1])\n",
    "                print(viterbi_prob)\n",
    "                alpha.append(temp)          \n",
    "    return alpha[-1],viterbi_prob                \n",
    "pi=[0.6,0.4]\n",
    "state=[[0.7,0.3],[0.6,0.4]]\n",
    "transition=[[0.6,0.3,0.1],[0.1,0.7,0.2]]\n",
    "words=[2,1,3]\n",
    "endprob=[1,1]\n",
    "alpha,ans=fpa(pi,state,transition,words)\n",
    "result=[]\n",
    "for i in range(len(endprob)):\n",
    "    result.append(endprob[i]*alpha[i])\n",
    "ans.append([max(result),0])\n",
    "print(ans)\n",
    "print(\"<start\",end=\" \")\n",
    "for i in range(1,len(ans)-1):\n",
    "    print(f\"state{ans[i][1]}\",end=\" \")\n",
    "print(\"end>\")    \n"
   ]
  },
  {
   "cell_type": "code",
   "execution_count": null,
   "id": "21747520-c79f-42af-a4cd-93fa5bc7885c",
   "metadata": {},
   "outputs": [],
   "source": []
  }
 ],
 "metadata": {
  "kernelspec": {
   "display_name": "Python 3 (ipykernel)",
   "language": "python",
   "name": "python3"
  },
  "language_info": {
   "codemirror_mode": {
    "name": "ipython",
    "version": 3
   },
   "file_extension": ".py",
   "mimetype": "text/x-python",
   "name": "python",
   "nbconvert_exporter": "python",
   "pygments_lexer": "ipython3",
   "version": "3.11.4"
  }
 },
 "nbformat": 4,
 "nbformat_minor": 5
}
