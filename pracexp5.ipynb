{
 "cells": [
  {
   "cell_type": "code",
   "execution_count": 2,
   "id": "35d82bc8-cf23-4ce4-a606-49878b6eb7dc",
   "metadata": {},
   "outputs": [
    {
     "name": "stdout",
     "output_type": "stream",
     "text": [
      "[0.294]\n",
      "[0.294, 0.166]\n",
      "[0.13343999999999998]\n",
      "[0.13343999999999998, 0.05955999999999999]\n",
      "[0.016487999999999996]\n",
      "[0.016487999999999996, 0.008767999999999998]\n",
      "0.025255999999999994\n"
     ]
    }
   ],
   "source": [
    "def fpa(pi,state,transition,words):\n",
    "    alpha=[pi]\n",
    "    for t in range(1,len(words)+1):\n",
    "        val=0\n",
    "        temp=[]\n",
    "        for j in range(0,len(state)):\n",
    "            for i in range(0,len(state)):\n",
    "                ok=words[t-1]\n",
    "                val=val+(alpha[t-1][i]*state[i][j]*transition[i][ok-1])\n",
    "            temp.append(val)\n",
    "            val=0\n",
    "            print(temp)\n",
    "            if len(temp)==len(state):\n",
    "                alpha.append(temp)\n",
    "    return sum(alpha[-1])                \n",
    "pi=[0.6,0.4]\n",
    "state=[[0.7,0.3],[0.6,0.4]]\n",
    "transition=[[0.6,0.3,0.1],[0.1,0.7,0.2]]\n",
    "words=[2,1,3]\n",
    "ans=fpa(pi,state,transition,words)\n",
    "print(ans)"
   ]
  },
  {
   "cell_type": "code",
   "execution_count": 6,
   "id": "5a1c113d-c882-4f67-972e-2787a01a2af7",
   "metadata": {},
   "outputs": [
    {
     "name": "stdout",
     "output_type": "stream",
     "text": [
      "1 0.7 0.1\n",
      "1 0.3 0.1\n",
      "[0.09999999999999999]\n",
      "1 0.6 0.2\n",
      "1 0.4 0.2\n",
      "[0.09999999999999999, 0.2]\n",
      "0.09999999999999999 0.7 0.6\n",
      "0.2 0.3 0.6\n",
      "[0.07799999999999999]\n",
      "0.09999999999999999 0.6 0.1\n",
      "0.2 0.4 0.1\n",
      "[0.07799999999999999, 0.014000000000000002]\n",
      "0.07799999999999999 0.7 0.3\n",
      "0.014000000000000002 0.3 0.3\n",
      "[0.017639999999999996]\n",
      "0.07799999999999999 0.6 0.7\n",
      "0.014000000000000002 0.4 0.7\n",
      "[0.017639999999999996, 0.03667999999999999]\n",
      "[0.017639999999999996, 0.03667999999999999]\n",
      "0.025255999999999994\n"
     ]
    }
   ],
   "source": [
    "def bpa(pi,state,transition,words):\n",
    "    alpha=[pi]\n",
    "    for t in range(0,len(words)):\n",
    "        val=0\n",
    "        temp=[]\n",
    "        for j in range(0,len(state)):\n",
    "            for i in range(0,len(state)):\n",
    "                ok=words[t]-1\n",
    "                print(alpha[t][i] , state[j][i] , transition[j][ok])\n",
    "                val+=(alpha[t][i]*state[j][i]*transition[j][ok])\n",
    "            temp.append(val)\n",
    "            val=0\n",
    "            print(temp)\n",
    "            if len(temp)==len(state):\n",
    "                alpha.append(temp)\n",
    "    return alpha[-1]  \n",
    "pi=[0.6,0.4]\n",
    "state=[[0.7,0.3],[0.6,0.4]]\n",
    "transition=[[0.6,0.3,0.1],[0.1,0.7,0.2]]\n",
    "words=[3,1,2]\n",
    "ip=[1,1]\n",
    "ans=bpa(ip,state,transition,words)\n",
    "print(ans)\n",
    "result=0\n",
    "for i in range(len(state)):\n",
    "    result+=ans[i]*pi[i]\n",
    "print(result)"
   ]
  },
  {
   "cell_type": "code",
   "execution_count": null,
   "id": "74a8acde-15f3-4370-809a-d779749c35fb",
   "metadata": {},
   "outputs": [],
   "source": [
    "def calc_bp(sp,ip,em,word):\n",
    "    alpha=[ip]\n",
    "    for i in range(0,len(words)):\n",
    "        hit_index=word[i]-1\n",
    "        temp=[]\n",
    "        for j in range(0,len(sp)):\n",
    "            val=0\n",
    "            for k in range(0,len(sp)):\n",
    "                val+=sp[j][k]*em[j][hit_index]*alpha[i][k]\n",
    "            temp.append(val)\n",
    "        alpha.append(temp)\n",
    "    \n",
    "    \n",
    "    return alpha[-1]"
   ]
  }
 ],
 "metadata": {
  "kernelspec": {
   "display_name": "Python 3 (ipykernel)",
   "language": "python",
   "name": "python3"
  },
  "language_info": {
   "codemirror_mode": {
    "name": "ipython",
    "version": 3
   },
   "file_extension": ".py",
   "mimetype": "text/x-python",
   "name": "python",
   "nbconvert_exporter": "python",
   "pygments_lexer": "ipython3",
   "version": "3.11.4"
  }
 },
 "nbformat": 4,
 "nbformat_minor": 5
}
