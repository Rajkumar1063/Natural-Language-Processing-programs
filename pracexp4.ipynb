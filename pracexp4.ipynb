{
 "cells": [
  {
   "cell_type": "code",
   "execution_count": null,
   "id": "5688d7ad-56ea-43cb-9c61-fdda2df563cf",
   "metadata": {},
   "outputs": [],
   "source": [
    "from nltk.util import bigrams\n",
    "from nltk.tokenize import word_tokenize\n",
    "import math"
   ]
  },
  {
   "cell_type": "code",
   "execution_count": null,
   "id": "531488b8-f10c-4583-afdf-33fd6db91375",
   "metadata": {},
   "outputs": [],
   "source": [
    "text='''In the bustling cityscape, the vibrant market square buzzed with energy as local\n",
    "vendors showcased their eclectic array of handmade crafts and artisanal goods. Shoppers leisurely\n",
    "strolled through the lively alleys, enchanted by the aromatic waft of freshly brewed coffee emanating\n",
    "from a quaint corner cafe. The melodious tunes of a street musician playing a vintage guitar\n",
    "created a harmonious backdrop, adding to the charm of the picturesque scene. Nearby, a cozy\n",
    "bookstore nestled between historic buildings beckoned readers with its enticing window display,\n",
    " featuring the latest bestsellers and classic novels. The juxtaposition of modern urban life and timeless\n",
    "traditions made this dynamic neighborhood a captivating destination for both locals and visitors alike.'''\n",
    "tokens=word_tokenize(text)\n",
    "print(tokens)\n",
    "noun=\"vendors\"\n",
    "verb=\"brewed\"\n",
    "preposition=\"the\""
   ]
  },
  {
   "cell_type": "code",
   "execution_count": null,
   "id": "e5048a90-d84f-4c36-b676-fe03d983fae1",
   "metadata": {},
   "outputs": [],
   "source": [
    "cn=tokens.count(noun)\n",
    "cv=tokens.count(verb)\n",
    "bigrams_list=list(bigrams(tokens))\n",
    "cnwp=sum(1 for b in bigrams_list if b[0]==noun and b[1]==preposition)\n",
    "cvwp=sum(1 for b in bigrams_list if b[0]==verb and b[1]==preposition)\n",
    "prob_verb=(cvwp+1)/(cn+1)\n",
    "prob_noun=(cnwp+1)/(cv+1)\n",
    "lamda=(prob_verb * (1-prob_noun))/prob_noun\n",
    "if lamda>0:\n",
    "    print(\"attached with verb\")\n",
    "else:\n",
    "    print(\"attached with noun\")\n",
    "    "
   ]
  },
  {
   "cell_type": "code",
   "execution_count": null,
   "id": "51094bd4-4dee-4ec6-9dca-659b95d01179",
   "metadata": {},
   "outputs": [],
   "source": []
  }
 ],
 "metadata": {
  "kernelspec": {
   "display_name": "Python 3 (ipykernel)",
   "language": "python",
   "name": "python3"
  },
  "language_info": {
   "codemirror_mode": {
    "name": "ipython",
    "version": 3
   },
   "file_extension": ".py",
   "mimetype": "text/x-python",
   "name": "python",
   "nbconvert_exporter": "python",
   "pygments_lexer": "ipython3",
   "version": "3.11.4"
  }
 },
 "nbformat": 4,
 "nbformat_minor": 5
}
