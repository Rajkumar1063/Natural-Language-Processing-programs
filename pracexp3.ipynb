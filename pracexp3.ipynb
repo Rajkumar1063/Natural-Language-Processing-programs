{
 "cells": [
  {
   "cell_type": "code",
   "execution_count": 8,
   "id": "bdc85866-eca8-4203-86b9-82c5d1bba762",
   "metadata": {},
   "outputs": [
    {
     "name": "stdin",
     "output_type": "stream",
     "text": [
      "Enter ambigous word:  chair\n",
      "Enter sentence:  excellent away\n"
     ]
    },
    {
     "name": "stdout",
     "output_type": "stream",
     "text": [
      "Sense is furniture.\n"
     ]
    }
   ],
   "source": [
    "import math\n",
    "ds=[['sit','wait','chair','long','furniture'],\n",
    "   ['good','it','chair','dept','positon'],\n",
    "    ['chair','away','go','sit','furniture'],\n",
    "    ['excellent','good','it','chair','position']\n",
    "   ]\n",
    "a_word=input(\"Enter ambigous word: \")\n",
    "sentence=input(\"Enter sentence: \")\n",
    "sen_list=list(sentence.split(\" \"))\n",
    "fur=[]\n",
    "pos=[]\n",
    "p=0\n",
    "f=0\n",
    "for i in ds:\n",
    "    if i[4]==\"furniture\":\n",
    "        f+=1\n",
    "        fur.append(i)\n",
    "    else:\n",
    "        p+=1\n",
    "        pos.append(i)\n",
    "prob_f=f/f+p\n",
    "prob_p=p/f+p\n",
    "score_f=math.log2(prob_f)\n",
    "score_p=math.log2(prob_f)\n",
    "for word in sen_list:\n",
    "    p=0\n",
    "    f=0\n",
    "    for i in fur:\n",
    "        if word in i:\n",
    "            f+=1\n",
    "    for j in pos:\n",
    "        if word in j:\n",
    "            p+=1\n",
    "    prob_f=f+1/len(fur)\n",
    "    prob_p=p+1/len(pos)\n",
    "    score_f+=math.log2(prob_f) \n",
    "    score_p+=math.log2(prob_p)\n",
    "if score_f >= score_p:\n",
    "    print(\"Sense is furniture.\")\n",
    "else:\n",
    "    print(\"Sense is postion.\")\n",
    "    "
   ]
  },
  {
   "cell_type": "code",
   "execution_count": null,
   "id": "9f859f28-a780-4615-bdaa-9b7f0cf7d3de",
   "metadata": {},
   "outputs": [],
   "source": []
  },
  {
   "cell_type": "code",
   "execution_count": null,
   "id": "ae04d24b-5af0-4033-808c-f1dbf3a39216",
   "metadata": {},
   "outputs": [],
   "source": []
  },
  {
   "cell_type": "code",
   "execution_count": null,
   "id": "7bde6583-3934-45c6-a519-7e15d530a111",
   "metadata": {},
   "outputs": [],
   "source": []
  }
 ],
 "metadata": {
  "kernelspec": {
   "display_name": "Python 3 (ipykernel)",
   "language": "python",
   "name": "python3"
  },
  "language_info": {
   "codemirror_mode": {
    "name": "ipython",
    "version": 3
   },
   "file_extension": ".py",
   "mimetype": "text/x-python",
   "name": "python",
   "nbconvert_exporter": "python",
   "pygments_lexer": "ipython3",
   "version": "3.11.4"
  }
 },
 "nbformat": 4,
 "nbformat_minor": 5
}
