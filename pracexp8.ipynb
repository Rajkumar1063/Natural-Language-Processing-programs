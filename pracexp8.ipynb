{
 "cells": [
  {
   "cell_type": "code",
   "execution_count": 18,
   "id": "9cb8a1f2-0464-4f72-bb90-d68eb01df2bf",
   "metadata": {},
   "outputs": [
    {
     "name": "stdout",
     "output_type": "stream",
     "text": [
      "['Mani', 'saw', 'stars', 'with', 'ears']\n",
      "[[[], [], [], [], []], [[], [], [], [], []], [[], [], [], [], []], [[], [], [], [], []], [[], [], [], [], []]]\n",
      "[[[[NP, 0.1]], [], [], [], []], [[], [[V, 1.0], [NP, 0.04]], [], [], []], [[], [], [[NP, 0.18]], [], []], [[], [], [], [[P, 1.0]], []], [[], [], [], [], [[NP, 0.18]]]]\n",
      "[[[[NP, 0.1]], [], [[S, 0.0126]], [], [[S, 0.0009071999999999999], [S, 0.0006804]]], [[], [[V, 1.0], [NP, 0.04]], [[VP, 0.126]], [], [[VP, 0.009071999999999998], [VP, 0.006803999999999999]]], [[], [], [[NP, 0.18]], [], [[NP, 0.01296]]], [[], [], [], [[P, 1.0]], [[PP, 0.18]]], [[], [], [], [], [[NP, 0.18]]]]\n",
      "Sentence is valid.\n",
      "Probability of sentence is  0.0009071999999999999\n",
      "Probability of sentence is  0.0006804\n",
      "Max probability sentence is  [S, 0.0009071999999999999]\n"
     ]
    }
   ],
   "source": [
    "from nltk import PCFG,ViterbiParser\n",
    "from nltk import word_tokenize\n",
    "pcfg=PCFG.fromstring(\"\"\"\n",
    "S -> NP VP [1.0]\n",
    "PP -> P NP [1.0]\n",
    "VP -> V NP [0.7]\n",
    "VP -> VP PP [0.3]\n",
    "P -> 'with' [1.0]\n",
    "V ->'saw' [1.0]\n",
    "NP -> NP PP [0.4]\n",
    "NP -> 'Mani' [0.1]\n",
    "NP -> 'ears' [0.18]\n",
    "NP -> 'saw' [0.04]\n",
    "NP -> 'stars' [0.18]\n",
    "NP -> 'telescope' [0.1]\n",
    "\"\"\"\n",
    ")\n",
    "text=\"Mani saw stars with ears\"\n",
    "tokens=word_tokenize(text)\n",
    "n=len(tokens)\n",
    "print(tokens)\n",
    "table=[[[]for i in range(n)]for i in range(n)]\n",
    "print(table)\n",
    "def addprob(table,left,i,j,prod_prob):\n",
    "    list1=[prod for prod in pcfg.productions() if prod.rhs()==(left,)]\n",
    "    if len(list1)==0:\n",
    "        return ;\n",
    "    for prod in pcfg.productions():\n",
    "        if prod.rhs()==(left,):\n",
    "            prod=prod_prob*prod.prob()\n",
    "            table[i][j].append([prod.lhs(),prod_prob])\n",
    "            addprob(table,prod.lhs(),i,j,prob)\n",
    "\n",
    "for i in range(n):\n",
    "    for prod in pcfg.productions(rhs=tokens[i]):\n",
    "        if table[i][i] is None:\n",
    "            table[i][i]=[(prod.lhs(),prod.prob())]\n",
    "        else:\n",
    "            table[i][i].append([prod.lhs(),prod.prob()])\n",
    "        addprob(table,prod.lhs(),i,i,prod.prob())    \n",
    "print(table)            \n",
    "for length in range(2,n+1):\n",
    "    for i in range(n-length+1):\n",
    "        j=i+length-1\n",
    "        for k in range(i,j):\n",
    "            for prod in pcfg.productions():\n",
    "                for left,leftprob in table[i][k]:\n",
    "                    for right,rightprob in table[k+1][j]:\n",
    "                        if prod.rhs()==(left,right):\n",
    "                            prob=leftprob*rightprob*prod.prob()\n",
    "                            if table[i][j] is None:\n",
    "                                table[i][j]=[(prod.lhs(),prob)]\n",
    "                            else:\n",
    "                                table[i][j].append([prod.lhs(),prob])\n",
    "                            addprob(table,prod.lhs(),i,j,prod.prob())    \n",
    "print(table)                                \n",
    "if table[0][n-1] is not None:\n",
    "    if pcfg.start() in (x for (x,prob) in table[0][n-1]):\n",
    "        print(\"Sentence is valid.\")\n",
    "        for (x,prob) in table[0][n-1]:\n",
    "            print(\"Probability of sentence is \",prob)  \n",
    "        print(\"Max probability sentence is \",max(table[0][n-1]))"
   ]
  },
  {
   "cell_type": "code",
   "execution_count": 19,
   "id": "bc31d8ee-05f2-45f3-8e72-fbe89181dd0b",
   "metadata": {},
   "outputs": [
    {
     "name": "stdout",
     "output_type": "stream",
     "text": [
      "(S\n",
      "  (NP Mani)\n",
      "  (VP (V saw) (NP (NP stars) (PP (P with) (NP ears))))) (p=0.0009072)\n"
     ]
    }
   ],
   "source": [
    "parser=ViterbiParser(pcfg)\n",
    "for tree in parser.parse(tokens):\n",
    "    print(tree)"
   ]
  },
  {
   "cell_type": "code",
   "execution_count": null,
   "id": "1ecadfc8-f293-4a1d-91bb-c386e86ddd94",
   "metadata": {},
   "outputs": [],
   "source": []
  },
  {
   "cell_type": "code",
   "execution_count": null,
   "id": "b2e01f3b-e1d0-430d-8625-0f1e7938cf8c",
   "metadata": {},
   "outputs": [],
   "source": []
  }
 ],
 "metadata": {
  "kernelspec": {
   "display_name": "Python 3 (ipykernel)",
   "language": "python",
   "name": "python3"
  },
  "language_info": {
   "codemirror_mode": {
    "name": "ipython",
    "version": 3
   },
   "file_extension": ".py",
   "mimetype": "text/x-python",
   "name": "python",
   "nbconvert_exporter": "python",
   "pygments_lexer": "ipython3",
   "version": "3.11.4"
  }
 },
 "nbformat": 4,
 "nbformat_minor": 5
}
