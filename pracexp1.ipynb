{
 "cells": [
  {
   "cell_type": "code",
   "execution_count": null,
   "id": "50c51906-7a33-41ed-8273-ff598371f686",
   "metadata": {},
   "outputs": [],
   "source": [
    "import nltk\n",
    "from nltk.corpus import stopwords\n",
    "from nltk.tokenize import word_tokenize\n",
    "from nltk.stem import WordNetLemmatizer\n",
    "from nltk.stem.porter import PorterStemmer\n",
    "text = \"This is a sample sentence and we are going to remove the stopwords from this.\"\n",
    "text=text.lower()\n",
    "print(text)\n",
    "words=word_tokenize(text)\n",
    "print(words)\n",
    "stop_words=set(stopwords.words(\"english\"))\n",
    "text1=[]\n",
    "for word in words:\n",
    "    if word not in stop_words:\n",
    "        text1.append(word)\n",
    "print(text1)    \n",
    "stemmer=PorterStemmer()\n",
    "text2=[]\n",
    "for word in words:\n",
    "    text2.append(stemmer.stem(word))\n",
    "print(text2)   \n",
    "lemmatizer=WordNetLemmatizer()\n",
    "text3=[]\n",
    "for word in words:\n",
    "    text3.append(lemmatizer.lemmatize(word))\n",
    "print(text3)    "
   ]
  },
  {
   "cell_type": "code",
   "execution_count": null,
   "id": "b96456e4-d273-45af-b51c-da23cc874402",
   "metadata": {},
   "outputs": [],
   "source": [
    "nltk.download('wordnet')"
   ]
  },
  {
   "cell_type": "code",
   "execution_count": null,
   "id": "73b861c1-f0b0-44ee-9b68-02b079b7c9dd",
   "metadata": {},
   "outputs": [],
   "source": [
    "from nltk.tree import *\n",
    "grammar = nltk.CFG.fromstring(\"\"\"\n",
    "S -> NP VP\n",
    "PP -> P NP\n",
    "NP -> Det N | Det N PP | 'I'\n",
    "VP -> V NP | VP PP\n",
    "Det -> 'an' | 'my'\n",
    "N -> 'elephant' | 'pajamas'\n",
    "V -> 'shot'\n",
    "P -> 'in'\n",
    "\"\"\")\n",
    "parser=nltk.ChartParser(grammar)\n",
    "sent = ['I', 'shot', 'an', 'elephant', 'in', 'my', 'pajamas']\n",
    "for tree in parser.parse(sent):\n",
    "    tree.pretty_print()"
   ]
  },
  {
   "cell_type": "code",
   "execution_count": null,
   "id": "fc96bdc5-69f6-4d16-a0d3-e31db71a0f0e",
   "metadata": {},
   "outputs": [],
   "source": []
  }
 ],
 "metadata": {
  "kernelspec": {
   "display_name": "Python 3 (ipykernel)",
   "language": "python",
   "name": "python3"
  },
  "language_info": {
   "codemirror_mode": {
    "name": "ipython",
    "version": 3
   },
   "file_extension": ".py",
   "mimetype": "text/x-python",
   "name": "python",
   "nbconvert_exporter": "python",
   "pygments_lexer": "ipython3",
   "version": "3.11.4"
  }
 },
 "nbformat": 4,
 "nbformat_minor": 5
}
