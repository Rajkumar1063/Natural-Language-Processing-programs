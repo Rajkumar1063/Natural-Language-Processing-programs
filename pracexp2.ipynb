{
 "cells": [
  {
   "cell_type": "code",
   "execution_count": 3,
   "id": "53851271-ce0f-496d-b2ff-781a1250ad11",
   "metadata": {},
   "outputs": [],
   "source": [
    "text='''In the bustling cityscape, the vibrant market square buzzed with energy as local\n",
    "vendors showcased their eclectic array of handmade crafts and artisanal goods. Shoppers leisurely\n",
    "strolled through the lively alleys, enchanted by the aromatic waft of freshly brewed coffee emanating\n",
    "from a quaint corner cafe. The melodious tunes of a street musician playing a vintage guitar\n",
    "created a harmonious backdrop, adding to the charm of the picturesque scene. Nearby, a cozy\n",
    "bookstore nestled between historic buildings beckoned readers with its enticing window display,\n",
    " featuring the latest bestsellers and classic novels. The juxtaposition of modern urban life and timeless\n",
    "traditions made this dynamic neighborhood a captivating destination for both locals and visitors alike.'''\n",
    "collocation=\"in the\"\n",
    "cric=1.5"
   ]
  },
  {
   "cell_type": "code",
   "execution_count": 9,
   "id": "10d98622-0671-4d3d-bf50-301c0de771f6",
   "metadata": {},
   "outputs": [],
   "source": [
    "from nltk.tokenize import word_tokenize\n",
    "from nltk.util import bigrams\n",
    "import math"
   ]
  },
  {
   "cell_type": "code",
   "execution_count": 11,
   "id": "bbfbcdec-9a70-4977-94ab-9fc48812bf42",
   "metadata": {},
   "outputs": [
    {
     "name": "stdout",
     "output_type": "stream",
     "text": [
      "No collocation\n"
     ]
    }
   ],
   "source": [
    "tokens=word_tokenize(text)\n",
    "k=word_tokenize(text)\n",
    "bigrams_list=list(bigrams(tokens))\n",
    "occ3=sum(1 for b in bigrams_list if b[0]==k[0] and b[1]==k[1])\n",
    "n=len(bigrams_list)\n",
    "xbar=occ3/n\n",
    "occ1=tokens.count(k[0])\n",
    "occ2=tokens.count(k[1])\n",
    "n=len(tokens)\n",
    "mu=(occ1/n)*(occ2/n)\n",
    "numerator=xbar-mu\n",
    "ssquare=xbar\n",
    "n=len(bigrams_list)\n",
    "denominator=math.sqrt(ssquare/n)\n",
    "result=numerator/denominator\n",
    "if result>=cric:\n",
    "    print(\"Forms a collocation.\")\n",
    "else:\n",
    "    print(\"No collocation\")"
   ]
  },
  {
   "cell_type": "code",
   "execution_count": null,
   "id": "59547c76-7c57-453f-9c37-a44124b14ac2",
   "metadata": {},
   "outputs": [],
   "source": []
  }
 ],
 "metadata": {
  "kernelspec": {
   "display_name": "Python 3 (ipykernel)",
   "language": "python",
   "name": "python3"
  },
  "language_info": {
   "codemirror_mode": {
    "name": "ipython",
    "version": 3
   },
   "file_extension": ".py",
   "mimetype": "text/x-python",
   "name": "python",
   "nbconvert_exporter": "python",
   "pygments_lexer": "ipython3",
   "version": "3.11.4"
  }
 },
 "nbformat": 4,
 "nbformat_minor": 5
}
