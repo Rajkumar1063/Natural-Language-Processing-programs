{
 "cells": [
  {
   "cell_type": "code",
   "execution_count": 6,
   "id": "f692b63c-8dca-4ceb-a286-8c47d980b7b9",
   "metadata": {},
   "outputs": [
    {
     "name": "stdout",
     "output_type": "stream",
     "text": [
      "Note: you may need to restart the kernel to use updated packages.Requirement already satisfied: scikit-learn in c:\\users\\rajku\\appdata\\local\\programs\\python\\python311\\lib\\site-packages (1.4.1.post1)\n",
      "Requirement already satisfied: numpy<2.0,>=1.19.5 in c:\\users\\rajku\\appdata\\local\\programs\\python\\python311\\lib\\site-packages (from scikit-learn) (1.26.4)\n",
      "Requirement already satisfied: scipy>=1.6.0 in c:\\users\\rajku\\appdata\\local\\programs\\python\\python311\\lib\\site-packages (from scikit-learn) (1.12.0)\n",
      "Requirement already satisfied: joblib>=1.2.0 in c:\\users\\rajku\\appdata\\local\\programs\\python\\python311\\lib\\site-packages (from scikit-learn) (1.3.2)\n",
      "Requirement already satisfied: threadpoolctl>=2.0.0 in c:\\users\\rajku\\appdata\\local\\programs\\python\\python311\\lib\\site-packages (from scikit-learn) (3.3.0)\n",
      "\n"
     ]
    },
    {
     "name": "stderr",
     "output_type": "stream",
     "text": [
      "\n",
      "[notice] A new release of pip is available: 23.3 -> 24.0\n",
      "[notice] To update, run: python.exe -m pip install --upgrade pip\n"
     ]
    }
   ],
   "source": [
    "pip install scikit-learn"
   ]
  },
  {
   "cell_type": "code",
   "execution_count": null,
   "id": "e99af289-7025-47bb-bbaa-96a278adf6a6",
   "metadata": {},
   "outputs": [],
   "source": []
  },
  {
   "cell_type": "code",
   "execution_count": 13,
   "id": "6857018c-f3ae-4cc2-882b-82f41e0f6cc8",
   "metadata": {},
   "outputs": [
    {
     "name": "stdout",
     "output_type": "stream",
     "text": [
      "1.0\n",
      "['negative']\n"
     ]
    },
    {
     "name": "stderr",
     "output_type": "stream",
     "text": [
      "C:\\Users\\rajku\\AppData\\Local\\Programs\\Python\\Python311\\Lib\\site-packages\\sklearn\\neural_network\\_multilayer_perceptron.py:691: ConvergenceWarning: Stochastic Optimizer: Maximum iterations (200) reached and the optimization hasn't converged yet.\n",
      "  warnings.warn(\n"
     ]
    }
   ],
   "source": [
    "from sklearn.neural_network import MLPClassifier\n",
    "from sklearn.model_selection import train_test_split\n",
    "from sklearn.feature_extraction.text import CountVectorizer\n",
    "texts = ['This is a good movie',\n",
    "         'I really enjoyed the book',\n",
    "         'The restaurant has excellent food',\n",
    "         'I did not like the concert',\n",
    "         'I really enjoyed the book',\n",
    "         'The restaurant has excellent food',\n",
    "         'I did not like the concert',\n",
    "         'I really enjoyed the book',\n",
    "         'The restaurant has excellent food',\n",
    "         'I did not like the concert',\n",
    "         'The weather today is beautiful', \n",
    "         'i hate this show',\n",
    "         'i hate this show',\n",
    "         'i hate that boy']\n",
    "\n",
    "labels = ['positive', 'positive', 'positive', 'negative','positive', 'positive', 'negative','positive', 'positive', 'negative', 'positive','negative','negative','negative']\n",
    "X_train,X_test,y_train,y_test=train_test_split(texts,labels,test_size=0.2)\n",
    "\n",
    "vectorizer=CountVectorizer()\n",
    "X_train=vectorizer.fit_transform(X_train)\n",
    "X_test=vectorizer.transform(X_test)\n",
    "\n",
    "mlp=MLPClassifier()\n",
    "mlp.fit(X_train,y_train)\n",
    "accuracy=mlp.score(X_test,y_test)\n",
    "print(accuracy)\n",
    "newtext=[\"I hate my mind\"]\n",
    "new_texts=vectorizer.transform(newtext)\n",
    "predictions=mlp.predict(new_texts)\n",
    "print(predictions)"
   ]
  },
  {
   "cell_type": "code",
   "execution_count": 15,
   "id": "731b701d-733b-4760-bdb3-bae76fe7d5c2",
   "metadata": {},
   "outputs": [],
   "source": [
    "from sklearn.neural_network import MLPClassifier\n",
    "from sklearn.feature_extraction.text import CountVectorizer\n",
    "from sklearn.model_selection import train_test_split"
   ]
  },
  {
   "cell_type": "code",
   "execution_count": 16,
   "id": "3178bdea-b0f7-491e-81a1-aa0ecaa4c851",
   "metadata": {},
   "outputs": [],
   "source": [
    "texts = ['This is a good movie',\n",
    "         'I really enjoyed the book',\n",
    "         'The restaurant has excellent food',\n",
    "         'I did not like the concert',\n",
    "         'I really enjoyed the book',\n",
    "         'The restaurant has excellent food',\n",
    "         'I did not like the concert',\n",
    "         'I really enjoyed the book',\n",
    "         'The restaurant has excellent food',\n",
    "         'I did not like the concert',\n",
    "         'The weather today is beautiful', \n",
    "         'i hate this show',\n",
    "         'i hate this show',\n",
    "         'i hate that boy']\n",
    "\n",
    "labels = ['positive', 'positive', 'positive', 'negative','positive', 'positive', 'negative','positive', 'positive', 'negative', 'positive','negative','negative','negative']\n"
   ]
  },
  {
   "cell_type": "code",
   "execution_count": 21,
   "id": "ac1f77d0-9d27-42a1-a799-f1e90043685b",
   "metadata": {},
   "outputs": [
    {
     "name": "stdout",
     "output_type": "stream",
     "text": [
      "1.0\n",
      "['negative']\n"
     ]
    },
    {
     "name": "stderr",
     "output_type": "stream",
     "text": [
      "C:\\Users\\rajku\\AppData\\Local\\Programs\\Python\\Python311\\Lib\\site-packages\\sklearn\\neural_network\\_multilayer_perceptron.py:691: ConvergenceWarning: Stochastic Optimizer: Maximum iterations (200) reached and the optimization hasn't converged yet.\n",
      "  warnings.warn(\n"
     ]
    }
   ],
   "source": [
    "X_train,X_test,y_train,y_test=train_test_split(texts,labels)\n",
    "\n",
    "vectorizer=CountVectorizer()\n",
    "X_train=vectorizer.fit_transform(X_train)\n",
    "X_test=vectorizer.transform(X_test)\n",
    "\n",
    "mlp=MLPClassifier()\n",
    "mlp.fit(X_train,y_train)\n",
    "\n",
    "accuracy=mlp.score(X_test,y_test)\n",
    "print(accuracy)\n",
    "\n",
    "newtext=[\"I hate my mind\"]\n",
    "new_text=vectorizer.transform(newtext)\n",
    "prediction=mlp.predict(new_text)\n",
    "print(prediction)"
   ]
  },
  {
   "cell_type": "code",
   "execution_count": null,
   "id": "037a86dc-ccf3-4032-a6be-108aef8c6663",
   "metadata": {},
   "outputs": [],
   "source": []
  }
 ],
 "metadata": {
  "kernelspec": {
   "display_name": "Python 3 (ipykernel)",
   "language": "python",
   "name": "python3"
  },
  "language_info": {
   "codemirror_mode": {
    "name": "ipython",
    "version": 3
   },
   "file_extension": ".py",
   "mimetype": "text/x-python",
   "name": "python",
   "nbconvert_exporter": "python",
   "pygments_lexer": "ipython3",
   "version": "3.11.4"
  }
 },
 "nbformat": 4,
 "nbformat_minor": 5
}
